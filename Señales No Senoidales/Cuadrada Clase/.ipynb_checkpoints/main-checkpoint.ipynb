{
 "cells": [
  {
   "cell_type": "markdown",
   "metadata": {},
   "source": [
    "# Ejercicio de clase\n",
    "\n",
    "## Consigna\n",
    "\n",
    "![imagen](consigna.jpg)"
   ]
  },
  {
   "cell_type": "code",
   "execution_count": 45,
   "metadata": {},
   "outputs": [],
   "source": [
    "import numpy as np\n",
    "from scipy import signal\n",
    "from matplotlib import pyplot as plt "
   ]
  },
  {
   "cell_type": "code",
   "execution_count": 83,
   "metadata": {},
   "outputs": [],
   "source": [
    "CANT_CICLOS = 7\n",
    "\n",
    "Vp = 2.08\n",
    "Vn = -1.06\n",
    "Vpp = Vp - Vn\n",
    "\n",
    "delta = 20/100 # Es dato en este ejercicio\n",
    "\n",
    "Amplitud = (Vpp/2)"
   ]
  },
  {
   "cell_type": "markdown",
   "metadata": {},
   "source": [
    "## ¿Qué mide el tester de media algebraica?\n",
    "\n",
    "\\begin{equation}\n",
    "    V_{DC} = \\frac{1}{T} \\int_{0}^{T} V(t)dt\n",
    "\\end{equation}"
   ]
  },
  {
   "cell_type": "code",
   "execution_count": 84,
   "metadata": {},
   "outputs": [
    {
     "data": {
      "text/plain": [
       "-0.43200000000000005"
      ]
     },
     "execution_count": 84,
     "metadata": {},
     "output_type": "execute_result"
    }
   ],
   "source": [
    "Vdc = Vp*delta + Vn*(1-delta)\n",
    "\n",
    "Vdc"
   ]
  },
  {
   "cell_type": "code",
   "execution_count": 86,
   "metadata": {},
   "outputs": [
    {
     "data": {
      "text/plain": [
       "[<matplotlib.lines.Line2D at 0x7fefcc1c14f0>]"
      ]
     },
     "execution_count": 86,
     "metadata": {},
     "output_type": "execute_result"
    },
    {
     "data": {
      "image/png": "[encoded data removed]",
      "text/plain": [
       "<Figure size 432x288 with 1 Axes>"
      ]
     },
     "metadata": {
      "needs_background": "light"
     },
     "output_type": "display_data"
    }
   ],
   "source": [
    "x = np.linspace(0, CANT_CICLOS*2*np.pi, 4000, endpoint = False) \n",
    "# Generamos la señal cuadrada de toda la vida (no es lo mismo que la de signal.square)\n",
    "cuadrada = (signal.square(x, duty=delta) + 1)/2\n",
    "\n",
    "# Hay que restar por np.mean para sacarle la media que aporta la señal generada (que depende del duty)\n",
    "# Por ejemplo la señal entre 1 y 0 con un duty del 50% vas a tener una media del 0.5, pero si el duty es de 20%\n",
    "# entonces la media va a ser de 0.2. Nosotros queremos eliminar eso para que ya este centrada en cero el valor \n",
    "# medio y podamos nosotros sumarle el valor calculado Vdc\n",
    "y = (Vpp * cuadrada) - np.mean(Vpp * cuadrada) + Vdc \n",
    "\n",
    "plt.plot(x,y)"
   ]
  }
 ],
 "metadata": {
  "kernelspec": {
   "display_name": "Python 3",
   "language": "python",
   "name": "python3"
  },
  "language_info": {
   "codemirror_mode": {
    "name": "ipython",
    "version": 3
   },
   "file_extension": ".py",
   "mimetype": "text/x-python",
   "name": "python",
   "nbconvert_exporter": "python",
   "pygments_lexer": "ipython3",
   "version": "3.8.5"
  }
 },
 "nbformat": 4,
 "nbformat_minor": 4
}
