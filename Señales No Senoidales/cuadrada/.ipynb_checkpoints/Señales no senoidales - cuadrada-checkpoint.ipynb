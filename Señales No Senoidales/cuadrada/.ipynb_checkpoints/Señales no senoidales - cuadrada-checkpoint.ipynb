{
 "cells": [
  {
   "cell_type": "markdown",
   "metadata": {},
   "source": [
    "\n",
    "# MEDICION DE SEÑALES NO SENOIDALES\n",
    "## SEÑAL CUADRADA"
   ]
  },
  {
   "cell_type": "markdown",
   "metadata": {},
   "source": [
    "Hacemos los import de rigor, para graficar, para procesamiento numerico y para generar señales."
   ]
  },
  {
   "cell_type": "code",
   "execution_count": 1,
   "metadata": {},
   "outputs": [],
   "source": [
    "import numpy as np\n",
    "from scipy import signal\n",
    "import matplotlib.pyplot as plt"
   ]
  },
  {
   "cell_type": "code",
   "execution_count": 2,
   "metadata": {},
   "outputs": [
    {
     "data": {
      "text/plain": [
       "[<matplotlib.lines.Line2D at 0x920a5f8>]"
      ]
     },
     "execution_count": 2,
     "metadata": {},
     "output_type": "execute_result"
    },
    {
     "data": {
      "image/png": "[encoded data removed]",
      "text/plain": [
       "<Figure size 432x288 with 1 Axes>"
      ]
     },
     "metadata": {},
     "output_type": "display_data"
    }
   ],
   "source": [
    "amplitud=5\n",
    "offset=5\n",
    "d=0.2\n",
    "t=np.linspace(0,2*np.pi,10000,endpoint=False) ## de 0 a 2pi 10000 ptos para trabajar\n",
    "\n",
    "v=amplitud*signal.square(5*t,duty=d)+offset ## generamos una cuadrada\n",
    "plt.plot(t,v)\n"
   ]
  },
  {
   "cell_type": "markdown",
   "metadata": {},
   "source": [
    "Se denomina valor eficaz al valor cuadrático medio de una magnitud eléctrica. El concepto de valor eficaz se utiliza especialmente para estudiar las formas de onda periódicas, a pesar de ser aplicable a todas las formas de onda, constantes o no."
   ]
  },
  {
   "cell_type": "markdown",
   "metadata": {},
   "source": [
    "<img src=\".\\wiki.bmp\">"
   ]
  },
  {
   "cell_type": "code",
   "execution_count": 3,
   "metadata": {},
   "outputs": [
    {
     "name": "stdout",
     "output_type": "stream",
     "text": [
      "el valor RMS = 4.47213595499958 V\n",
      "el valor RMS aplicando la formula = 4.47213595499958 V\n"
     ]
    }
   ],
   "source": [
    "print(\"el valor RMS = {} V\".format(np.sqrt(np.mean(np.power(v,2)))))\n",
    "print(\"el valor RMS aplicando la formula = {} V\".format((amplitud+offset)*np.sqrt(d)))\n"
   ]
  },
  {
   "cell_type": "markdown",
   "metadata": {},
   "source": [
    "#### foto del OSC midiendo\n",
    "<img src=\".\\foto.bmp\">"
   ]
  },
  {
   "cell_type": "markdown",
   "metadata": {},
   "source": [
    " Hasta aca hemos generado la señal que debe medir el tester.\n",
    " Recordando la teoria el multimetro en DC entrega el valor medio algebraico"
   ]
  },
  {
   "cell_type": "code",
   "execution_count": 4,
   "metadata": {},
   "outputs": [
    {
     "name": "stdout",
     "output_type": "stream",
     "text": [
      "el valor medio algebraico es = 2.0 V\n"
     ]
    }
   ],
   "source": [
    "Vmed=np.mean(v)\n",
    "print(\"el valor medio algebraico es = {} V\".format(Vmed))"
   ]
  },
  {
   "cell_type": "markdown",
   "metadata": {},
   "source": [
    "#### foto de tester en DC midiendo\n",
    "<img src=\".\\foto.bmp\">"
   ]
  },
  {
   "cell_type": "markdown",
   "metadata": {},
   "source": [
    "Cuando ponemos a medir un multimetro en AC tenemos que recordar que tiene acople capacitivo, por lo tanto la señal queda con valor medio cero"
   ]
  },
  {
   "cell_type": "code",
   "execution_count": 5,
   "metadata": {},
   "outputs": [
    {
     "name": "stdout",
     "output_type": "stream",
     "text": [
      "El valor medio despues del capacitor es = 0.0 V\n"
     ]
    },
    {
     "data": {
      "image/png": "[encoded data removed]",
      "text/plain": [
       "<Figure size 432x288 with 1 Axes>"
      ]
     },
     "metadata": {},
     "output_type": "display_data"
    }
   ],
   "source": [
    "Vac=v-Vmed\n",
    "plt.plot(t,Vac,t,np.zeros(len(t)))\n",
    "print(\"El valor medio despues del capacitor es = {} V\".format(np.mean(Vac)))"
   ]
  },
  {
   "cell_type": "markdown",
   "metadata": {},
   "source": [
    "Luego del acople capacitivo, el instrumento en alterna tiene un puente rectificador que transforma a la señal en continua"
   ]
  },
  {
   "cell_type": "code",
   "execution_count": 6,
   "metadata": {},
   "outputs": [
    {
     "data": {
      "text/plain": [
       "[<matplotlib.lines.Line2D at 0x95980b8>,\n",
       " <matplotlib.lines.Line2D at 0x9598278>]"
      ]
     },
     "execution_count": 6,
     "metadata": {},
     "output_type": "execute_result"
    },
    {
     "data": {
      "image/png": "[encoded data removed]",
      "text/plain": [
       "<Figure size 432x288 with 1 Axes>"
      ]
     },
     "metadata": {},
     "output_type": "display_data"
    }
   ],
   "source": [
    "Vrect=np.abs(Vac)\n",
    "plt.plot(t,Vrect,t,np.zeros(len(t)))"
   ]
  },
  {
   "cell_type": "markdown",
   "metadata": {},
   "source": [
    "## Instrumento que responde a valor medio de modulo\n",
    "Estos intrumento tienen un detector de valor medio"
   ]
  },
  {
   "cell_type": "code",
   "execution_count": 7,
   "metadata": {},
   "outputs": [
    {
     "data": {
      "text/plain": [
       "[<matplotlib.lines.Line2D at 0xa5c7b38>,\n",
       " <matplotlib.lines.Line2D at 0xa5c7cf8>,\n",
       " <matplotlib.lines.Line2D at 0xa5d0550>]"
      ]
     },
     "execution_count": 7,
     "metadata": {},
     "output_type": "execute_result"
    },
    {
     "data": {
      "image/png": "[encoded data removed]",
      "text/plain": [
       "<Figure size 432x288 with 1 Axes>"
      ]
     },
     "metadata": {},
     "output_type": "display_data"
    }
   ],
   "source": [
    "Vmed_mod=np.mean(Vrect)\n",
    "Vmed_mod=np.full(len(t),Vmed_mod)\n",
    "plt.plot(t,Vrect,t,np.zeros(len(t)),t,Vmed_mod)"
   ]
  },
  {
   "cell_type": "markdown",
   "metadata": {},
   "source": [
    "Luego que el detector entrega en nivel de DC igual al valor caracteristico detectado, el multimetro multiplica por la constante de calibración correspondiente.\n",
    "Para valor medio de módulo es 1,11 para finalmente mostrarlo en pantalla"
   ]
  },
  {
   "cell_type": "markdown",
   "metadata": {},
   "source": [
    "<img src=\".\\kas.bmp\">"
   ]
  },
  {
   "cell_type": "code",
   "execution_count": 8,
   "metadata": {},
   "outputs": [
    {
     "name": "stdout",
     "output_type": "stream",
     "text": [
      "mostrado en pantalla es 3.554306350526693 V\n"
     ]
    }
   ],
   "source": [
    "Kme=np.pi/(2*np.sqrt(2))\n",
    "Vi=Vmed_mod[1]*Kme\n",
    "print(\"mostrado en pantalla es {} V\".format(Vi))"
   ]
  },
  {
   "cell_type": "markdown",
   "metadata": {},
   "source": [
    "# Como corregir la lectura para hallar el valor deseado"
   ]
  },
  {
   "cell_type": "markdown",
   "metadata": {},
   "source": [
    "Aunque hay algunos instrumentos que dan la opcion DC+AC, Lo que esperamos medir cuando ponemos un multímetro en alterna es el valor eficaz de la componente de alterna (AC). \n",
    "Además sabemos que en AC hay acople capacitivo, de la misma manera que en el vertical de un osciloscopio."
   ]
  },
  {
   "cell_type": "code",
   "execution_count": 9,
   "metadata": {},
   "outputs": [
    {
     "name": "stdout",
     "output_type": "stream",
     "text": [
      "VRMS_AC = 4.0 V\n"
     ]
    },
    {
     "data": {
      "image/png": "[encoded data removed]",
      "text/plain": [
       "<Figure size 432x288 with 1 Axes>"
      ]
     },
     "metadata": {},
     "output_type": "display_data"
    }
   ],
   "source": [
    "plt.plot(t,Vac)\n",
    "VRMS_AC=np.sqrt(np.mean(Vac**2))\n",
    "print(\"VRMS_AC = {} V\".format(VRMS_AC))"
   ]
  },
  {
   "cell_type": "markdown",
   "metadata": {},
   "source": [
    "$$ VRMS={ \\sqrt{VAC^2+VDC^2}}$$\n",
    "\n",
    "\n"
   ]
  },
  {
   "cell_type": "code",
   "execution_count": 10,
   "metadata": {},
   "outputs": [
    {
     "name": "stdout",
     "output_type": "stream",
     "text": [
      "VRMS AC+DC = 4.47213595499958 V\n"
     ]
    }
   ],
   "source": [
    "print(\"VRMS AC+DC = {} V\".format((VRMS_AC**2+Vmed**2)**0.5))"
   ]
  },
  {
   "cell_type": "markdown",
   "metadata": {},
   "source": [
    "<img src=\".\\fac.bmp\">"
   ]
  },
  {
   "cell_type": "code",
   "execution_count": 11,
   "metadata": {},
   "outputs": [
    {
     "name": "stdout",
     "output_type": "stream",
     "text": [
      " Valor corregido = 4.0 V\n"
     ]
    }
   ],
   "source": [
    "RMS_corregido=(np.sqrt(2)/(np.pi*np.sqrt(d*(1-d))))*Vi\n",
    "print(\" Valor corregido = {} V\".format(RMS_corregido))"
   ]
  },
  {
   "cell_type": "markdown",
   "metadata": {},
   "source": [
    "## Conclusiones\n",
    "#### Podemos calcular valores eficaces de manera directa\n",
    "#### Podemos simular el comportamiento del instrumento\n",
    "#### Conociendo el comportamiento del instrumento podemos hallar el valor deseado"
   ]
  },
  {
   "cell_type": "code",
   "execution_count": null,
   "metadata": {},
   "outputs": [],
   "source": []
  }
 ],
 "metadata": {
  "kernelspec": {
   "display_name": "Python 3",
   "language": "python",
   "name": "python3"
  },
  "language_info": {
   "codemirror_mode": {
    "name": "ipython",
    "version": 3
   },
   "file_extension": ".py",
   "mimetype": "text/x-python",
   "name": "python",
   "nbconvert_exporter": "python",
   "pygments_lexer": "ipython3",
   "version": "3.8.5"
  }
 },
 "nbformat": 4,
 "nbformat_minor": 2
}
