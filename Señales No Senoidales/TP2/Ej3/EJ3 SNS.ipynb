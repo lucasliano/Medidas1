{
 "cells": [
  {
   "cell_type": "markdown",
   "metadata": {},
   "source": [
    "# TP2 - Ejercicio 3\n",
    "\n",
    "## Consigna\n",
    "\n",
    "![imagen](consigna.png)"
   ]
  },
  {
   "cell_type": "markdown",
   "metadata": {},
   "source": [
    "\n",
    "# Resolución\n",
    "\n",
    "## Interpretación del resultado\n",
    "En primera instancia vamos a extraer la información de la imagen. Dado que se nos informa que la punta del osciloscopio atenua $x10$ y viendo que el instrumento esta configurado para mostrar $5V / DIV$, esto se traduce en que podemos interpretar que las divisiones reales del instrumento son de $50V / DIV$.\n",
    "\n",
    "Luego, vemos que la forma de onda se corresponde con una señal que se va alternando entre una forma senoidal y una constante nula en intervalos de $\\pi/2$ radianes. La amplitud de la señal se corresponde con $3 DIV$, por lo que podriamos definir a la señal en un periodo de la siguiente manera:\n",
    "\n",
    "\\begin{equation}\n",
    "    V(t)= \\left\\{ \\begin{array}{lcc}\n",
    "             0V &   si  & t \\leq T/4 \\\\\n",
    "             \\\\ 150V sen(t \\cdot \\frac{2\\pi}{T}) &  si & T/4 \\lt t \\leq T/2 \\\\\n",
    "             \\\\ 0V &  si & T/2 \\lt t \\leq 3T/4 \\\\\n",
    "             \\\\ 150V sen(t \\cdot \\frac{2\\pi}{T}) &   si  & t \\gt 3T/4 \\\\\n",
    "             \\end{array}\n",
    "   \\right.\n",
    "\\end{equation}\n",
    "\n",
    "donde $f = 1/T = 50Hz$."
   ]
  },
  {
   "cell_type": "markdown",
   "metadata": {},
   "source": [
    "## Cálculo\n",
    "\n",
    "### Caso TrueRMS\n",
    "Si el instrumento de medición responde a TrueRMS, esto quiere decir que implementa circuitalmente un método que permite conocer el valor RMS en alterna mediante su definición física. Es por ello que el valor que informe el instrumento va a ser realmente el valor RMS, independientemente de la forma de onda. Por tanto el valor que mostrará el insturmento en este caso va a ser:\n",
    "\n",
    "\\begin{equation}\n",
    "    V_{i} = V_{e} = \\sqrt{\\dfrac{1}{T} (150V)^{2} \\cdot \\left( \\int_{\\frac{T}{4}}^{\\frac{T}{2}}sen^{2}(t \\cdot \\frac{2\\pi}{T})dt + \\int_{\\frac{3T}{4}}^{T}sen^{2}(t \\cdot \\frac{2\\pi}{T})dt\\right)}\n",
    "\\end{equation}\n",
    "\n",
    "Resolviendo las integrales nos queda,\n",
    "\n",
    "\\begin{equation}\n",
    "    V_{i} = V_{e} = \\sqrt{\\dfrac{1}{T} (150V)^{2} \\cdot \\left( \\frac{T}{8} + \\frac{T}{8}\\right)} = \\sqrt{(150V)^{2} \\cdot \\frac{1}{4}}\n",
    "\\end{equation}\n",
    "\n",
    "Como podemos ver, este resultado es coherente debido a la simetría que presenta la función. Finalmente nos queda:\n",
    "\n",
    "\\begin{equation}\n",
    "    V_{i} = V_{e} = \\sqrt{\\frac{(150V)^{2}}{4}} = \\sqrt{5625V^{2}} = 75V\n",
    "\\end{equation}"
   ]
  },
  {
   "cell_type": "markdown",
   "metadata": {},
   "source": [
    "### Caso Detector de $V_{m}$\n",
    "Si el instrumento detecta valor máximos para señales senoidales, el valor que podremos ver en el display no se corresponderá con el valor eficaz. Por el contrario aplicará los factores de calibración adecuados para el caso senoidal, por lo que será necesario aplicar un factor de conversión $F_{\\alpha \\beta *}$ para obtener el valor correspondiente a nuestra forma de onda.\n",
    "\n",
    "Por ende en ese caso tendremos que el valor medido será:\n",
    "\n",
    "\\begin{equation}\n",
    "    V_{i} = V_{m+} \\cdot K_{m+}\n",
    "\\end{equation}\n",
    "\n",
    "Donde conocemos que $V_{m+} = 150V$ dado que la señal luego de ser rectificada tiene como valor pico la amplitud. También conocemos que el factor de conversión $K_{m+} = \\frac{1}{\\sqrt{2}}$\n",
    "\n",
    "Por tanto el instrumentó nos mostrará el siguiente resultado,\n",
    "\n",
    "\\begin{equation}\n",
    "    V_{i} = \\frac{150V}{\\sqrt{2}} \\approx 106V\n",
    "\\end{equation}\n"
   ]
  },
  {
   "cell_type": "markdown",
   "metadata": {},
   "source": [
    "### Caso Detector de $V_{|me|}$\n",
    "Si el instrumento detecta valor de media en módulo para señales senoidales. Nuevamente, el valor que podremos ver en el display no se corresponderá con el valor eficaz.\n",
    "\n",
    "En ese caso tendremos que el valor medido será:\n",
    "\n",
    "\\begin{equation}\n",
    "    V_{i} = V_{|me|} \\cdot K_{|me|}\n",
    "\\end{equation}\n",
    "\n",
    "donde conocemos que el factor de conversión para señales senoidales $K_{|me|} = \\frac{\\pi}{2 \\sqrt{2}} \\approx 1.11$.\n",
    "\n",
    "Para conocer el valor de media en módulo deberemos trabajar un poco algebraicamente con la señal.\n",
    "\n",
    "\\begin{equation}\n",
    "    V_{|me|} =  \\dfrac{1}{T} \\int_{0}^{T} |V(t)|dt\n",
    "\\end{equation}\n",
    "\n",
    "\\begin{equation}\n",
    "    V_{|me|} =  \\dfrac{150V}{T} \\cdot \\left( \\int_{\\frac{T}{4}}^{\\frac{T}{2}}|sen(t \\cdot \\frac{2\\pi}{T})|dt + \\int_{\\frac{3T}{4}}^{T}|sen(t \\cdot \\frac{2\\pi}{T})|dt\\right)\n",
    "\\end{equation}\n",
    "\n",
    "Donde sabemos que $\\int_{\\frac{T}{4}}^{\\frac{T}{2}}|sen(t \\cdot \\frac{2\\pi}{T})|dt = \\int_{\\frac{T}{4}}^{\\frac{T}{2}}sen(t \\cdot \\frac{2\\pi}{T})dt = \\frac{T}{2\\pi}$ por ser enteramente positiva la función en ese intervalo. De igual modo, y por simetría, la integral del módulo de la función en el intervalo $[\\frac{3T}{4};T]$ tiene el mismo resultado.\n",
    "\n",
    "\\begin{equation}\n",
    "    V_{|me|} =  \\dfrac{150V}{T} \\cdot \\left( \\frac{T}{2\\pi} + \\frac{T}{2\\pi} \\right) = \\dfrac{150V}{\\pi}\n",
    "\\end{equation}\n",
    "\n",
    "Finalmente, el valor que mostrará el instrumento será:\n",
    "\n",
    "\\begin{equation}\n",
    "    V_{i} = V_{|me|} \\cdot K_{|me|} \n",
    "\\end{equation}\n",
    "\n",
    "\\begin{equation}\n",
    "    V_{i} = \\dfrac{150V}{\\pi} \\cdot \\frac{\\pi}{2 \\sqrt{2}}\n",
    "\\end{equation}\n",
    "\n",
    "\\begin{equation}\n",
    "    V_{i} = \\dfrac{150V}{2\\sqrt{2}} \\approx 53V\n",
    "\\end{equation}\n"
   ]
  }
 ],
 "metadata": {
  "kernelspec": {
   "display_name": "Python 3",
   "language": "python",
   "name": "python3"
  },
  "language_info": {
   "codemirror_mode": {
    "name": "ipython",
    "version": 3
   },
   "file_extension": ".py",
   "mimetype": "text/x-python",
   "name": "python",
   "nbconvert_exporter": "python",
   "pygments_lexer": "ipython3",
   "version": "3.8.5"
  }
 },
 "nbformat": 4,
 "nbformat_minor": 4
}
