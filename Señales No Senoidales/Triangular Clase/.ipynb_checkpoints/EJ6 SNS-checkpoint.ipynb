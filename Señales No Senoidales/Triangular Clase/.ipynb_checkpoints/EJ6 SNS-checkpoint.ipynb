{
 "cells": [
  {
   "cell_type": "markdown",
   "metadata": {},
   "source": [
    "# TP2 - Ejercicio 6\n",
    "\n",
    "## Consigna\n",
    "\n",
    "![imagen](consigna.png)"
   ]
  },
  {
   "cell_type": "markdown",
   "metadata": {},
   "source": [
    "\n",
    "# Resolución\n",
    "\n",
    "## Interpretación del problema\n",
    "\n",
    "El problema nos da como dato tres mediciones con tres instrumentos distintos. Cada uno de estas mediciones se corresponden con valores distintos. Entre ellos encontramos $V_{m+}$, $V_{|me|}$ y $V_{med}$. Con estos tres valores debemos calcular:\n",
    "\n",
    "* $V_{PP}$\n",
    "* $\\delta$\n",
    "* $V_{e}$ (AC+DC)\n",
    "\n",
    "Las ecuaciones que relacionan dichos parámetros con los que podemos medir son las siguientes:\n",
    "\n",
    "\\begin{eqnarray}\n",
    "V_{PP} = V_{m+} + V_{m-} \\\\\n",
    "\\delta = 1 - \\frac{V_{m+}}{V_{PP}}  \\\\\n",
    "V_{|me|} = V_{PP} \\cdot 2\\delta (1 - \\delta) \\\\\n",
    "V_{e} (AC+DC) = \\sqrt{V_{e_{AC}}^{2} + V_{med}^{2}}\n",
    "\\end{eqnarray}\n",
    "\n",
    "Junto con cada valor debemos expresar la incertidumbre asociada.\n",
    "\n",
    "Finalmente se deben simular los resultados obtenidos.\n"
   ]
  },
  {
   "cell_type": "markdown",
   "metadata": {},
   "source": [
    "## Cálculo de $V_{PP}$\n",
    "\n",
    "Recordemos que para el caso de una señal cuadrada sabemos que existen dos ecuaciones que modelan su comportamiento luego del pasar por el capacitor de acople (es decir midiendo en AC). \n",
    "\n",
    "\\begin{equation}\n",
    "    \\left\\{\n",
    "    V_{PP} = V_{m+} + V_{m-} \\atop\n",
    "    V_{m+}\\cdot \\tau = V_{m-} \\cdot (T - \\tau)\n",
    "    \\right.\n",
    "\\end{equation}\n",
    "\n",
    "Donde trabajando con las ecuaciones podemos llegar a las siguientes expresiones\n",
    "\n",
    "\\begin{equation}\n",
    "    \\left\\{\n",
    "    V_{m-} = V_{PP} \\cdot \\delta \\atop\n",
    "    V_{m+} = V_{PP} \\cdot (1 - \\delta)\n",
    "    \\right.\n",
    "\\end{equation}\n",
    "\n",
    "Siempre que $\\delta = \\frac{T}{\\tau}$."
   ]
  }
 ],
 "metadata": {
  "kernelspec": {
   "display_name": "Python 3",
   "language": "python",
   "name": "python3"
  },
  "language_info": {
   "codemirror_mode": {
    "name": "ipython",
    "version": 3
   },
   "file_extension": ".py",
   "mimetype": "text/x-python",
   "name": "python",
   "nbconvert_exporter": "python",
   "pygments_lexer": "ipython3",
   "version": "3.8.5"
  }
 },
 "nbformat": 4,
 "nbformat_minor": 4
}
