{
 "cells": [
  {
   "cell_type": "markdown",
   "metadata": {},
   "source": [
    "<div align=\"right\"><a href=\"https://github.com/lucasliano/Medidas1\">Link Github</a></div>\n",
    "\n",
    "\n",
    "\n",
    "<img src=\"logo.jpg\" width=\"400\"></img>\n",
    "\n",
    "<div align=\"center\">\n",
    "    <h1>Resúmen Teórico de Medidas Electrónicas 1</h1>\n",
    "    <h2>Incertidumbre</h2>\n",
    "    <h3>Liaño, Lucas</h3>\n",
    "</div>\n",
    "\n",
    "\n",
    "\n",
    "# Contenidos\n",
    "\n",
    "- **Introducción**\n",
    "- **Marco Teórico**\n",
    "    - Conceptos Básicos Metrología\n",
    "    - ¿Qué es la incertidumbre?\n",
    "    - Modelo matemático de una medición ($Y$)\n",
    "    - Evaluación incertidumbre Tipo A\n",
    "    - Evaluación incertidumbre Tipo B\n",
    "    - Incertidumbre Conjunta\n",
    "    - Grado de Confianza\n",
    "    - Caso de análisis: $u_{i}(x_{i}) \\gg u_{j}(X_{i})$\n",
    "    - Caso de análisis: $u_{i}(x_{i}) \\ll u_{j}(X_{i})$\n",
    "    - Correlación\n",
    "    \n",
    "- **Experimentación**\n",
    "    - Caso General\n",
    "    - Caso Incertidumbre tipo A dominante\n",
    "    - Caso Incertidumbre tipo B dominante\n",
    "    - Ejemplo Correlación\n",
    "- **Bibliografía**\n",
    "***\n",
    " \n",
    "# Introducción  \n",
    "\n",
    "El objetivo del presente documento es de resumir, al mismo tiempo que simular, los contenidos teóricos correspondientes a la unidad N°1 de la materia medidas 1. Para ello, utilizaremos los recursos disponibles en el drive de la materia.\n",
    "\n",
    "<div class=\"alert alert-success\">\n",
    "    <strong>Link:</strong> <a href=\"https://drive.google.com/folderview?id=1p1eVB4UoS0C-5gyienup-XiewKsTpcNc\">https://drive.google.com/folderview?id=1p1eVB4UoS0C-5gyienup-XiewKsTpcNc</a>\n",
    "</div>\n",
    "\n",
    "***"
   ]
  },
  {
   "cell_type": "markdown",
   "metadata": {},
   "source": [
    "\n",
    "# Marco Teórico\n",
    "\n",
    "## Conceptos Básicos Metrología\n",
    "\n",
    "La de medición de una magnitud física, atributo de un cuerpo mensurable, consiste en el proceso mediante el cual se da a conocer el valor de dicha magnitud. A lo largo de la historia se han desarrollado diversos modelos de medición, todos ellos consisten en la comparación de la magnitud contra un patrón.\n",
    "\n",
    "A su vez, a medida que se fueron confeccionando mejores métodos de medición, se empezó a tener en consideración el error en la medida. Este error consiste en una indicación cuantitativa de la calidad del resultado. Valor que demuestra la confiabilidad del proceso.\n",
    "\n",
    "Actualmente, definimos al **resultado de una medición** como al conjunto de valores de una magnitud, atribuidos a un mensurando. Se puede definir a partir de una función distribución densidad de probabilidad (también denomidada _pdf_, de la sígla inglesa _probability density function_). El resultado de una medición está caracterizado por la media de la muestra, la incertidumbre y el grado de confianza de la medida.\n",
    "\n",
    "Denominaremos **incertidumbre de una medición** al parámetro asociado con el resultado de la medición que caracteríza la dispersión de los valores atribuidos a un mensurando. Mientras que el **error de medida** será la diferencia entre el valor medido con un valor de referencia. [[1]](http://depa.fquim.unam.mx/amyd/archivero/CALCULODEINCERTIDUMBRESDR.JAVIERMIRANDA_26197.pdf)\n",
    "\n",
    "#### Tipos de errores\n",
    "\n",
    "Existen dos tipos:\n",
    "\n",
    "> **Error sistemático:** Componente del error que en repetidas mediciones permanece constante.\n",
    "\n",
    "> **Error aleatorio:** Componente del error que en repetidas mediciones varía de manera impredecible.\n",
    "\n",
    "***\n",
    "## ¿Qué es la incertidumbre?\n",
    "\n",
    "Como bien definimos anteriormente, la incertidumbre es un parámetro que caracteríza la dispersión de los valores atribuidos a un mensurando. Esto significa que, considerando al resultado de la medición como una función distribución densidad de probabilidad, la incertidumbre representa el desvío estándar de la misma. Se suele denominar **incertidumbre estándar** a dicha expresión de la incertidumbre.\n",
    "\n",
    "#### Componentes de la incertidumbre\n",
    "\n",
    "> **Tipo A:** Componente de la incertidumbre descripta únicamente a partir del estudio estadístico de las muestras.\n",
    "\n",
    "> **Tipo B:** Componente de la incertidumbre descripta a partir de las hojas de datos previstas por los fabricantes de los instrumentos de medición, junto con datos de calibración.\n",
    "\n",
    "En las próximas secciones se describe en detalle como son los test efectuados para determinar cada una de las componentes. [[2]](https://es.wikipedia.org/wiki/Propagaci%C3%B3n_de_errores)\n",
    "\n",
    "***\n",
    "## Modelo matemático de una medición ($Y$)\n",
    "\n",
    "Supongamos una magnitud a mensurar ($Y$), la cual se va a estimar de forma indirecta a partir de una relación fundamental con otras $N$ magnitudes mensurables, de manera que se cumple:\n",
    "\n",
    "\\begin{equation}\n",
    "    Y = f(x_{1},x_{2},...,x_{N})\n",
    "\\end{equation}\n",
    "\n",
    "Como definimos previamente, las variables $x_{i}$ son funciones distribución densidad de probabilidad por ser resultados de mediciones. Cada una de estas mediciones viene determinada, idealmente, por el valor de su media ($\\mu_{X_{i}}$), su desvío estándar ($\\sigma_{x_{i}}$) y el grado de confianza de la medición. Dado que en la vida real no es posible conseguir una estimación lo suficientemente buena de estos parámetros, se utilizarán sus estimadores en su lugar.\n",
    "\n",
    "\n",
    "Por tanto, si se tomaron $M$ muestras de cada una de estas variables, podemos utilizar la **media poblacional ($\\bar{Y}$)** como estimador de la media ($\\mu_{Y}$) de la distribución densidad de probabilidad de la medición como:\n",
    "\n",
    "\\begin{equation}\n",
    "     \\hat{Y} = \\bar{Y} = \\frac{1}{M} \\sum_{k=0}^{M} f_{k}(x_{1},x_{2},...,x_{N}) = f(\\bar{X_{1}},\\bar{X_{2}},...,\\bar{X_{N}})\n",
    "\\end{equation}\n",
    "\n",
    "<div class=\"alert alert-danger\">\n",
    "    <strong>Verificar que esto este bien.</strong> Sospecho que no porque estamos suponiendo que podes aplicar linealidad adentro de la función. Estoy leyendo el ejemplo del calculo de resistencia y hacemos \"resistencia= (media_V/media_I)\" en la línea 39 del documento compartido en el canal general de Slack. \n",
    "</div>\n",
    "\n",
    "Asimismo, para determinar el otro parámetro fundamental de la medición (la incertidumbre) utilizaremos como estimador a la **incertidumbre combinada ($u_{c}$)** definida a partir de la siguiente ecuación,\n",
    "\n",
    "\\begin{equation}\n",
    "     u_{c}^{2}(Y) = \\sum_{i=1}^{N} (\\dfrac{\\partial f}{\\partial x_{i}})^{2} \\cdot u_{c}^{2}(x_{i}) + 2 \\sum_{i=1}^{N-1} \\sum_{j = i+1}^{N} \\dfrac{\\partial f}{\\partial x_{i}} \\dfrac{\\partial f}{\\partial x_{j}} u(x_{i},x_{j})\n",
    "\\end{equation}\n",
    "\n",
    "donde $u(x_{i},x_{j})$ es la expresión de la covariancia entre las pdf de las $x_{i}$.\n",
    "\n",
    "Esta expresión, para permitir el uso de funciones $f_{k}$ no lineales, es la aproximación por serie de Taylor de primer orden de la expresión original para funciones que cumplen linealidad. [[2]](https://es.wikipedia.org/wiki/Propagaci%C3%B3n_de_errores)\n",
    "\n",
    "A su vez, a partir de la **ley de propagación de incertidumbres**, podemos decir que para la determinación de una variable unitaria mediante medición directa es posible reducir la expresión anterior a la siguiente:\n",
    "\n",
    "\\begin{equation}\n",
    "     u_{c}^{2}(x_{i}) = u_{i}^{2}(x_{i}) + u_{j}^{2}(x_{i}) \n",
    "\\end{equation}\n",
    "\n",
    "donde denominaremos $u_{i}(x_{i})$ a la incertidumbre tipo A, y $u_{j}(x_{i})$ a la incertidumbre tipo B.\n",
    "\n",
    "***\n",
    "## Evaluación incertidumbre Tipo A\n",
    "\n",
    "La incertidumbre tipo A, recordando que se trata de una medida de dispersión y al ser tipo A se relaciona con la estadística de las muestras, se puede estimar con el desvío estándar experimental de la media ($S(\\bar{X_{i}})$). Para ello hace falta recordar algunos conceptos de estadística.\n",
    "\n",
    "Suponiendo que se toman $N$ muestras:\n",
    "\n",
    "> **Estimador media poblacional:**\n",
    ">> $\\hat{x_{i}}=\\bar{X_{i}}=\\dfrac{1}{N} \\sum_{k=1}^{N}x_{i,k}$\n",
    "\n",
    "> **Grados de libertad:**\n",
    ">> $\\nu = N-1$\n",
    "\n",
    "> **Varianza experimental de las observaciones:**\n",
    ">> $\\hat{\\sigma^{2}(X_{i})}=S^{2}(X_{i})=\\dfrac{1}{\\nu} \\sum_{k=1}^{N}(X_{i,k} - \\bar{X_{i}})^{2}$\n",
    "\n",
    "> **Varianza experimental de la media:**\n",
    ">> $\\hat{\\sigma^{2}(\\bar{X_{i}})}=S^{2}(\\bar{X_{i}})=\\dfrac{S^{2}(x_{i})}{N}$\n",
    "\n",
    "\n",
    "\n",
    "\n",
    "<div class=\"alert alert-success\">\n",
    "    <strong>Por ende, la componente de la incertidumbre tipo A nos queda:</strong>\n",
    "    \n",
    "\\begin{equation}\n",
    "     u_{i}(x_{i}) = \\sqrt{S^{2}(\\bar{X_{i}})}\n",
    "\\end{equation}\n",
    "</div>\n",
    "\n",
    "\n",
    "***\n",
    "## Evaluación incertidumbre Tipo B\n",
    "\n",
    "La incertidumbre tipo B viene determinada por la información que proveen los fabricantes de los instrumentos de medición, asi como también por los datos resultantes por la calibración de los mismos.\n",
    "\n",
    "En estos instrumentos de medición la incertidumbre viene descripta en forma de distribuciones densidad de probabilidad, no en forma estadística. Para ello utilizamos los siguientes estadísticos que caracterízan a las variables aleatorias, en caso de que su dominio fuera continuo:\n",
    "\n",
    "> **Esperanza:**\n",
    ">> $E(x)=\\int x.f(x)dx$\n",
    "\n",
    "> **Varianza:**\n",
    ">> $V(x)=\\int x^{2}.f(x)dx$\n",
    "\n",
    "\n",
    "<div class=\"alert alert-success\">\n",
    "    <strong>Por tanto, si la incertidumbre es un parámetro de dispersión, la misma vendrá descripta por la expresión:</strong>\n",
    "    \n",
    "\\begin{equation}\n",
    "     u_{j}(x_{i}) = \\sqrt{V(x)}\n",
    "\\end{equation}\n",
    "</div>\n",
    "\n",
    "Por simplicidad a la hora de trabajar, a continuación se presenta una tabla con los valores típicos del desvío estándar para el caso de distintas distribuciones. Se demuestra el caso de distribución uniforme.\n",
    "\n",
    "![dist](uniforme.png)\n",
    "\n",
    "Suponiendo que la distribución esta centrada en $\\bar{X_{i}}$, nos quedaría que $a = \\bar{X_{i}} - \\Delta X$ y $b = \\bar{X_{i}} - \\Delta X$. \n",
    "\n",
    "Por tanto si la expresión de la varianza es $V(x_{i}) = \\frac{(b-a)^{2}}{12}$, finalmente quedaría:\n",
    "\n",
    "\\begin{equation}\n",
    "     V(x_{i}) = \\frac{(b-a)^{2}}{12} = \\frac{(2 \\Delta X)^{2}}{12} = \\frac{4 \\Delta X^{2}}{12} = \\frac{\\Delta X^{2}}{3}\n",
    "\\end{equation}\n",
    "\n",
    "\\begin{equation}\n",
    "     \\sigma_{x_{i}} = \\frac{\\Delta X}{\\sqrt{3}}\n",
    "\\end{equation}\n",
    "\n",
    "Finalmente la tabla queda,\n",
    "\n",
    "| Distribution     | $u_{j}(x_{i}) = \\sigma_{x_{i}}$|\n",
    "|    :----:        |    :----:                   |\n",
    "|  Uniforme        | $\\frac{\\Delta X}{\\sqrt{3}}$ |\n",
    "|  Normal          | $\\Delta X                 $ |\n",
    "|  Normal ($K=2$)  | $\\frac{\\Delta X}{2}       $ |\n",
    "|  Triangular      | $\\frac{\\Delta X}{\\sqrt{6}}$ |\n",
    "|  U               | $\\frac{\\Delta X}{\\sqrt{2}}$ |\n",
    "\n",
    "<div class=\"alert alert-danger\">\n",
    "    <strong>Verificar que esto este bien.</strong> Me genera dudas el término $\\Delta X$. Esto no creo que deba ser así porque en el caso de la distribución normal $\\sigma_{x_{i}} = \\sigma$. No creo que deba aparecer ningun error absoluto ahí.\n",
    "</div>\n",
    "\n",
    "***\n",
    "## Incertidumbre Conjunta\n",
    "\n",
    "Como definimos anteriormente, la incertidumbre conjunta queda definida como:\n",
    "\n",
    "\\begin{equation}\n",
    "     u_{c}^{2}(x_{i}) = u_{i}^{2}(x_{i}) + u_{j}^{2}(x_{i}) \n",
    "\\end{equation}\n",
    "\n",
    "#### ¿Qué función distribución densidad de probabilidad tiene $u_{c}$?\n",
    "\n",
    "Si se conocen $x_{1},x_{2},...,x_{N}$ y $Y$ es una combinación lineal de $x_{i}$ (o en su defecto una aproximación lineal, como en el caso del polinomio de taylor de primer grado de la función), podemos conocer la función distribución densidad de probabilidad a partir de la convolución de las $x_{i}$, al igual que se hace para SLIT. [[3]](https://es.wikipedia.org/wiki/Convoluci%C3%B3n)\n",
    "\n",
    "Dado que habitualmente no se conoce con precisión la función distribución densidad de probabilidad de $u_{i}(x_{i})$, se suele utilizar el **teorema central del límite** para conocer $u_{c}(x_{i})$. El mismo plantea que cuantas más funciones $x_{i}$ con función distribución densidad de probabilidad deconocida sumemos, más va a tender su resultado a una distribución normal.\n",
    "\n",
    "***\n",
    "## Grado de Confianza\n",
    "\n",
    "Finalmente, el último parámetro que nos interesa conocer para determinar el resultado de la medición es el grado de confianza.\n",
    "\n",
    "> **Grado de confianza:** Es la probabilidad de que al evaluar nuevamente la media poblacional ($\\bar{y}$) nos encontremos con un valor dentro del intervalo $[\\bar{Y} - K.\\sigma_{Y}(\\bar{Y}) \\le \\mu_{Y} \\le \\bar{Y} - K.\\sigma_{Y}(\\bar{Y})]$ para el caso de una distribución que cumpla el teorema central del límite, donde $K$ es el factor de cobertura.\n",
    "\n",
    "Otra forma de verlo es:\n",
    "\n",
    "![gradoConfianza](gradoConfianza.png)\n",
    "\n",
    "donde el grado de confianza viene representado por $(1-\\alpha)$. Recomiendo ver el ejemplo [[4]](https://es.wikipedia.org/wiki/Intervalo_de_confianza#Ejemplo_pr%C3%A1ctico) en caso de no entender lo que representa.\n",
    "\n",
    "De esta forma, el factor de cobertura ($K$) nos permite modificar el grado de confianza. Agrandar $K$ aumentará el área bajo la curva de la gaussiana, lo que representará un mayor grado de confianza. \n",
    "\n",
    "Se definirá **incertidumbre expandida** a $U(x_{i}) = K \\cdot u_{c}(x_{i})$ si $u_{c}(x_{i})$ es la incertidumbre que nos proveé un grado de confianza de aproximadamente $ 68\\% $.\n",
    "\n",
    "Para una función que distribuye como normal podemos estimar el grado de confianza mediante la siguiente tabla,\n",
    "\n",
    "| Factor de cobertura     | Grado de confianza|\n",
    "|    :----:        |    :----: |\n",
    "|  $K=1$           | $68.26\\% $ |\n",
    "|  $K=2$           | $95.44\\% $ |\n",
    "|  $K=3$           | $99.74\\% $ |\n",
    "\n",
    "\n",
    "#### ¿Qué sucede si $u_{c}$ no distribuye normalmente?\n",
    "\n",
    "En este caso también se podrá utilizar la ecuación $U(x_{i}) = K \\cdot u_{c}(x_{i})$, pero el método mediante el cual obtendremos a $K$ será distinto.\n",
    "\n",
    "***\n",
    "## Caso de análisis: $u_{i}(x_{i}) \\gg u_{j}(X_{i})$\n",
    "\n",
    "Cuando sucede que la incertidumbre que proveé la evaluación tipo A es muy significativa frente a la tipo B, esto querrá decir que no tenemos suficientes grados de libertad para que $u_{c}(x_{i})$ se aproxime a una gaussiana. En otras palabras, la muestra obtenida no es significativa.\n",
    "\n",
    "En estos casos vamos a suponer que $u_{c}(x_{i})$ distribuye como t-Student. La distribución t-Student surge justamente del problema de estimar la media de una población normalmente distribuida cuando el tamaño de la muestra es pequeño.\n",
    "\n",
    "Como la distribución de t-Student tiene como parámetro los grados de libertad efectivos, debemos calcularlos. Para ello utilizaremos la fórmula de Welch-Satterthwaite:\n",
    "\n",
    "\\begin{equation}\n",
    "     \\nu_{eff} = \\dfrac{u_{c}^{4}(y)}{\\sum_{i=1}^{N} \\dfrac{ c_{i}^{4} u^{4}(x_{i})} {\\nu_{i}} } \n",
    "\\end{equation}\n",
    "\n",
    "\n",
    "donde $c_i = \\dfrac{\\partial f}{\\partial x_{i}}$ y $u_{i}(x_{i})$ es la incertidumbre tipo A.\n",
    "\n",
    "![tstudent](tstudent.png)\n",
    "\n",
    "Para obtener el factor de cobertura que nos asegure un factor de cobertura del $95/%$ debemos recurrir a la tabla del t-Student. Para ello existe una función dentro del módulo _scipy.stats_ que nos integra la función hasta lograr un área del $95.4%$.\n",
    "\n",
    "A continuación presentamos la función que utilizaremos con dicho fin,\n",
    "\n",
    "~~~\n",
    "def get_factor_Tstudent(V_eff, porcentaje_confianza_objetivo=95.4):\n",
    " \"\"\"\n",
    " Funcion de calculo de factor de expansión por T-student\n",
    " input:\n",
    " V_eff: Grados de libertad (float)\n",
    " porcentaje_confianza_objetivo: porcentaje_confianza_objetivo (float)\n",
    " returns: \n",
    " Factor de expansión (float)\n",
    " \"\"\"\n",
    " return np.abs( -(stats.t.ppf((1.0+(porcentaje_confianza_objetivo/100))/2.0,V_eff)) )\n",
    "~~~\n",
    "\n",
    "\n",
    "***\n",
    "## Caso de análisis: $u_{i}(x_{i}) \\ll u_{j}(X_{i})~$\n",
    "\n",
    "Para el caso en el que la incertidumbre del muestreo es muy inferior a la incertidumbre tipo B, nos encontramos frente al caso de incertidumbre B dominante. Esta situación es equivalente a tener la convolución entre una delta de dirac con una función de distribución cualquiera.  \n",
    "\n",
    "![bdominante](bdominante.png)\n",
    "\n",
    "\n",
    "Como observamos en la imagen, la función distribución densidad de probabilidad resultate se asemeja más a la distribución uniforme del tipo B. En este caso para encontrar el factor de cobertura utilizaremos otra tabla distinta. En esta tabla el parámetro de entrada es el cociente $\\dfrac{u_{i}}{u_{j}}$.\n",
    "\n",
    "A continuación presentamos la función que utilizaremos con dicho fin,\n",
    "\n",
    "~~~\n",
    "def tabla_B(arg):\n",
    "  tabla_tipoB = np.array([\n",
    "                 [0.0, 1.65],\n",
    "                 [0.1, 1.66],\n",
    "                 [0.15, 1.68],\n",
    "                 [0.20, 1.70],\n",
    "                 [0.25, 1.72],\n",
    "                 [0.30, 1.75],\n",
    "                 [0.35, 1.77],\n",
    "                 [0.40, 1.79],\n",
    "                 [0.45, 1.82],\n",
    "                 [0.50, 1.84],\n",
    "                 [0.55, 1.85],\n",
    "                 [0.60, 1.87],\n",
    "                 [0.65, 1.89],\n",
    "                 [0.70, 1.90],\n",
    "                 [0.75, 1.91],\n",
    "                 [0.80, 1.92],\n",
    "                 [0.85, 1.93],\n",
    "                 [0.90, 1.94],\n",
    "                 [0.95, 1.95],\n",
    "                 [1.00, 1.95],\n",
    "                 [1.10, 1.96],\n",
    "                 [1.20, 1.97],\n",
    "                 [1.40, 1.98],\n",
    "                 [1.80, 1.99],\n",
    "                 [1.90, 1.99]])\n",
    "  if arg >= 2.0:\n",
    "    K = 2.0\n",
    "  else:\n",
    "    pos_min = np.argmin(np.abs(tabla_tipoB[:,0]-arg)) \n",
    "    K =  tabla_tipoB[pos_min,1]\n",
    "\n",
    "  return K\n",
    "~~~\n",
    "\n",
    "\n",
    "***\n",
    "## Correlación\n",
    "\n",
    "Finalmente nos encontramos con el caso mas general. En esta situación las variables se encuentran correlacionadas, por lo que la expresión de $u_{c}(Y)$ debe utilizarse en su totalidad.\n",
    "\n",
    "Por simplicidad de computo vamos a definir al coeficiente correlación como,\n",
    "\n",
    "\\begin{equation}\n",
    "     r(q,w) = \\dfrac{ u(q,w) }{ u(q)u(w) }\n",
    "\\end{equation}\n",
    "\n",
    "De esta forma podemos expresar a $u_{c}$ como:\n",
    "\n",
    "\\begin{equation}\n",
    "     u_{c}^{2}(Y) = \\sum_{i=1}^{N} (\\dfrac{\\partial f}{\\partial x_{i}})^{2} \\cdot u_{c}^{2}(x_{i}) + 2 \\sum_{i=1}^{N-1} \\sum_{j = i+1}^{N} \\dfrac{\\partial f}{\\partial x_{i}} \\dfrac{\\partial f}{\\partial x_{j}} r(x_{i},x_{j})u(x_{i})u(x_{j})\n",
    "\\end{equation}\n",
    "\n",
    "Esta expresión debe utilizarse cada vez que $r(x_{i},x_{j}) \\ne 0$."
   ]
  },
  {
   "cell_type": "markdown",
   "metadata": {},
   "source": [
    "# Experimentación\n",
    "**Comenzamos inicializando los módulos necesarios**"
   ]
  },
  {
   "cell_type": "code",
   "execution_count": 677,
   "metadata": {},
   "outputs": [],
   "source": [
    "# módulos genericos\n",
    "import numpy as np\n",
    "import matplotlib.pyplot as plt\n",
    "from scipy import stats\n",
    "\n",
    "# Módulos para Jupyter (mejores graficos!)\n",
    "import warnings\n",
    "warnings.filterwarnings('ignore')\n",
    "plt.rcParams['figure.figsize'] = [12, 4]\n",
    "plt.rcParams['figure.dpi'] = 150 # 200 e.g. is really fine, but slower\n",
    "\n",
    "\n",
    "from pandas import DataFrame\n",
    "from IPython.display import HTML"
   ]
  },
  {
   "cell_type": "markdown",
   "metadata": {},
   "source": [
    "**Definimos las funciones previamente mencionadas**"
   ]
  },
  {
   "cell_type": "code",
   "execution_count": 678,
   "metadata": {},
   "outputs": [],
   "source": [
    "# Tabla para el caso A dominante\n",
    "def get_factor_Tstudent(V_eff, porcentaje_confianza_objetivo=95.4):\n",
    "    \"\"\"\n",
    "    Funcion de calculo de factor de expansión por T-student\n",
    "    input:\n",
    "    V_eff: Grados de libertad (float)\n",
    "    porcentaje_confianza_objetivo: porcentaje_confianza_objetivo (float)\n",
    "    returns: .\n",
    "    Factor de expansión (float)\n",
    "    \"\"\"\n",
    "    return np.abs( -(stats.t.ppf((1.0+(porcentaje_confianza_objetivo/100))/2.0,V_eff)) )\n",
    "\n",
    "# Tabla para el caso B dominante\n",
    "def tabla_B(arg):\n",
    "    tabla_tipoB = np.array([\n",
    "                 [0.0, 1.65],\n",
    "                 [0.1, 1.66],\n",
    "                 [0.15, 1.68],\n",
    "                 [0.20, 1.70],\n",
    "                 [0.25, 1.72],\n",
    "                 [0.30, 1.75],\n",
    "                 [0.35, 1.77],\n",
    "                 [0.40, 1.79],\n",
    "                 [0.45, 1.82],\n",
    "                 [0.50, 1.84],\n",
    "                 [0.55, 1.85],\n",
    "                 [0.60, 1.87],\n",
    "                 [0.65, 1.89],\n",
    "                 [0.70, 1.90],\n",
    "                 [0.75, 1.91],\n",
    "                 [0.80, 1.92],\n",
    "                 [0.85, 1.93],\n",
    "                 [0.90, 1.94],\n",
    "                 [0.95, 1.95],\n",
    "                 [1.00, 1.95],\n",
    "                 [1.10, 1.96],\n",
    "                 [1.20, 1.97],\n",
    "                 [1.40, 1.98],\n",
    "                 [1.80, 1.99],\n",
    "                 [1.90, 1.99]])\n",
    "    if arg >= 2.0:\n",
    "        K = 2.0\n",
    "    else:\n",
    "        pos_min = np.argmin(np.abs(tabla_tipoB[:,0]-arg)) \n",
    "        K =  tabla_tipoB[pos_min,1]\n",
    "\n",
    "    return K"
   ]
  },
  {
   "cell_type": "markdown",
   "metadata": {},
   "source": [
    "## Caso general\n",
    "**Definimos las constantes necesarias**"
   ]
  },
  {
   "cell_type": "code",
   "execution_count": 679,
   "metadata": {},
   "outputs": [],
   "source": [
    "# Constantes del instrumento\n",
    "CONST_ERROR_PORCENTUAL = 0.5 # Error porcentual del instrumento de medición\n",
    "CONST_ERROR_CUENTA = 3       # Error en cuentas del instrumento de medición\n",
    "CONST_DECIMALES = 2          # Cantidad de decimales que representa el instrumento\n",
    "\n",
    "# Constantes del muestro\n",
    "N = 20libertad efectivos                       # Cantidad de muestras tomadas\n",
    "\n",
    "# Señal a muestrear idealizada\n",
    "mu = 100                     # Valor medio de la distribución normal de la población ideal\n",
    "std = 2                      # Desvío estándar de la distribución normal de la población ideal\n",
    "\n",
    "# Muestreo mi señal ideal (Normal)\n",
    "muestra = np.random.randn(N) * std + mu"
   ]
  },
  {
   "cell_type": "markdown",
   "metadata": {},
   "source": [
    "**Ahora solamente genero un gráfico que compare el histograma con la distribución normal de fondo**"
   ]
  },
  {
   "cell_type": "code",
   "execution_count": 680,
   "metadata": {
    "scrolled": false
   },
   "outputs": [
    {
     "data": {
      "image/png": "[encoded data removed]",
      "text/plain": [
       "<Figure size 1800x600 with 1 Axes>"
      ]
     },
     "metadata": {
      "needs_background": "light"
     },
     "output_type": "display_data"
    }
   ],
   "source": [
    "num_bins = 50\n",
    "fig, ax = plt.subplots()\n",
    "# the histogram of the data\n",
    "n, bins, patches = ax.hist(muestra, num_bins, density=True)\n",
    "# add a 'best fit' line\n",
    "y = ((1 / (np.sqrt(2 * np.pi) * std)) *\n",
    "     np.exp(-0.5 * (1 / std * (bins - mu))**2))\n",
    "ax.plot(bins, y, '--')\n",
    "ax.set_xlabel('Smarts')\n",
    "ax.set_ylabel('Probability density')\n",
    "ax.set_title('Histogram of IQ: $\\mu=$'+ str(mu) + ', $\\sigma=$' + str(std))\n",
    "# Tweak spacing to prevent clipping of ylabel\n",
    "fig.tight_layout()\n",
    "plt.show()"
   ]
  },
  {
   "cell_type": "code",
   "execution_count": 681,
   "metadata": {},
   "outputs": [
    {
     "name": "stdout",
     "output_type": "stream",
     "text": [
      "Mean: 99.73\n",
      "STD: 1.9037388826383066\n"
     ]
    }
   ],
   "source": [
    "media = np.round(muestra.mean(), CONST_DECIMALES) # Redondeamos los decimales a los valores que puede ver el tester\n",
    "desvio = muestra.std()\n",
    "\n",
    "print(\"Mean:\",media )\n",
    "print(\"STD:\" ,desvio)"
   ]
  },
  {
   "cell_type": "markdown",
   "metadata": {},
   "source": [
    "**Calculamos el desvío estándar experimental de la media como:**\n",
    "\\begin{equation}\n",
    "     u_{i}(x_{i}) = \\sqrt{S^{2}(\\bar{X_{i}})}\n",
    "\\end{equation}"
   ]
  },
  {
   "cell_type": "code",
   "execution_count": 682,
   "metadata": {
    "scrolled": false
   },
   "outputs": [
    {
     "data": {
      "text/plain": [
       "0.42568895529887474"
      ]
     },
     "execution_count": 682,
     "metadata": {},
     "output_type": "execute_result"
    }
   ],
   "source": [
    "#Incertidumbre Tipo A\n",
    "ui = desvio/np.sqrt(N)\n",
    "ui"
   ]
  },
  {
   "cell_type": "markdown",
   "metadata": {},
   "source": [
    "**Calculamos el error porcentual total del dispositivo de medición como:**\n",
    "\\begin{equation}\n",
    "     e_{\\%T} = e_{\\%} + \\dfrac{e_{cuenta}\\cdot 100\\%}{\\bar{X_{i}}(10^{cte_{Decimales}})}\n",
    "\\end{equation}"
   ]
  },
  {
   "cell_type": "code",
   "execution_count": 683,
   "metadata": {},
   "outputs": [
    {
     "data": {
      "text/plain": [
       "0.03008121929208864"
      ]
     },
     "execution_count": 683,
     "metadata": {},
     "output_type": "execute_result"
    }
   ],
   "source": [
    "#Incertidumbre Tipo B\n",
    "ERROR_PORCENTUAL_CUENTA = (CONST_ERROR_CUENTA*100)/(media * (10**CONST_DECIMALES ))\n",
    "\n",
    "ERROR_PORCENTUAL_TOTAL = CONST_ERROR_PORCENTUAL + ERROR_PORCENTUAL_CUENTA\n",
    "\n",
    "ERROR_PORCENTUAL_CUENTA"
   ]
  },
  {
   "cell_type": "markdown",
   "metadata": {},
   "source": [
    "**Por tanto el error absoluto se representa como:**\n",
    "\\begin{equation}\n",
    "     \\Delta X = e_{\\%T} \\dfrac{\\bar{X_{i}}}{100\\%}\n",
    "\\end{equation}"
   ]
  },
  {
   "cell_type": "code",
   "execution_count": 684,
   "metadata": {},
   "outputs": [
    {
     "data": {
      "text/plain": [
       "0.5286500000000001"
      ]
     },
     "execution_count": 684,
     "metadata": {},
     "output_type": "execute_result"
    }
   ],
   "source": [
    "deltaX = ERROR_PORCENTUAL_TOTAL * media/100\n",
    "deltaX"
   ]
  },
  {
   "cell_type": "markdown",
   "metadata": {},
   "source": [
    "**Finalmente la incertidumbre tipo B queda:**\n",
    "\\begin{equation}\n",
    "     u_{j}(x_{i}) = \\sqrt{Var(x_{i})} = \\dfrac{\\Delta X}{\\sqrt{3}}\n",
    "\\end{equation}\n",
    "\n",
    "donde recordamos que, al suponer una distribución uniforme en el dispositivo de medición, la varianza nos queda $Var(X_{uniforme}) = \\dfrac {(b-a)^{2}}{12}$."
   ]
  },
  {
   "cell_type": "code",
   "execution_count": 685,
   "metadata": {},
   "outputs": [
    {
     "data": {
      "text/plain": [
       "0.30521621980709573"
      ]
     },
     "execution_count": 685,
     "metadata": {},
     "output_type": "execute_result"
    }
   ],
   "source": [
    "uj = deltaX / np.sqrt(3)\n",
    "uj"
   ]
  },
  {
   "cell_type": "markdown",
   "metadata": {},
   "source": [
    "**Calculamos la incertidumbre conjunta**\n",
    "\n",
    "Como este es el caso de una medición directa de una sola variable, la expresión apropiada es:\n",
    "\n",
    "\\begin{equation}\n",
    "     u_{c}^{2}(x_{i}) = u_{i}^{2}(x_{i}) + u_{j}^{2}(x_{i}) \n",
    "\\end{equation}"
   ]
  },
  {
   "cell_type": "code",
   "execution_count": 686,
   "metadata": {},
   "outputs": [
    {
     "data": {
      "text/plain": [
       "0.5238015153631963"
      ]
     },
     "execution_count": 686,
     "metadata": {},
     "output_type": "execute_result"
    }
   ],
   "source": [
    "#incertidumbre combinada\n",
    "uc = np.sqrt(ui**2 + uj**2)\n",
    "uc"
   ]
  },
  {
   "cell_type": "markdown",
   "metadata": {},
   "source": [
    "**Ahora debemos evaluar frente a que caso nos encontramos**\n",
    "\n",
    "En primera instancia evaluamos que componente de la incertidumbre es mayoritaria y en que proporción."
   ]
  },
  {
   "cell_type": "markdown",
   "metadata": {},
   "source": [
    "Entonces tenemos tres situaciones posibles:\n",
    "\n",
    "1. **Caso B dominante** $\\Rightarrow \\dfrac{u_{i}(x_{i})}{u_{j}(x_{i})} \\lt 1 \\Rightarrow$  Se utiliza la tabla de B dominante.\n",
    "1. **Caso Normal** $\\Rightarrow \\dfrac{u_{i}(x_{i})}{u_{j}(x_{i})} \\gt 1$ y $V_{eff} \\gt 30 \\Rightarrow$  Se toma $K=2$.\n",
    "1. **Caso A dominante** $\\Rightarrow \\dfrac{u_{i}(x_{i})}{u_{j}(x_{i})} \\gt 1$ y $V_{eff} \\lt 30 \\Rightarrow$  Se utiliza t-Student con los grados de libertad efectivos.\n"
   ]
  },
  {
   "cell_type": "code",
   "execution_count": 687,
   "metadata": {},
   "outputs": [],
   "source": [
    "def evaluacion(uc,ui,uj,N):\n",
    "    cte_prop = ui/uj\n",
    "    print(\"Constante de proporcionalidad\", cte_prop)\n",
    "    if cte_prop > 1:\n",
    "        # Calculo los grados de libertad efectivos\n",
    "        veff = int ((uc**4)/((ui**4)/(N-1)))\n",
    "        print(\"Grados efectivos: \", veff)\n",
    "        if veff > 30:\n",
    "            # Caso Normal\n",
    "            k = 2\n",
    "        else:\n",
    "            # Caso t-Student\n",
    "            k = get_factor_Tstudent(veff)\n",
    "    else:\n",
    "        # Caso B Dominante\n",
    "        k = tabla_B(cte_prop)\n",
    "    print(\"Constante de expansión: \",k)\n",
    "    return k"
   ]
  },
  {
   "cell_type": "markdown",
   "metadata": {},
   "source": [
    "<div class=\"alert alert-warning\">\n",
    "    <strong>Nota:</strong> La contribución de $u_{j}(x_{i})$ no se tiene en cuenta dado que, al ser una distribución continua, tiene infinitos grados de libertad.\n",
    "    \n",
    "    \n",
    "\\begin{equation}\n",
    "     \\nu_{eff} = \\dfrac{u_{c}^{4}(y)}{\\sum_{i=1}^{N} \\dfrac{ c_{i}^{4} u^{4}(x_{i})} {\\nu_{i}} } \n",
    "\\end{equation}\n",
    "</div>\n",
    "\n"
   ]
  },
  {
   "cell_type": "code",
   "execution_count": 688,
   "metadata": {},
   "outputs": [
    {
     "name": "stdout",
     "output_type": "stream",
     "text": [
      "Constante de proporcionalidad 1.394712756641573\n",
      "Grados efectivos:  43\n",
      "Constante de expansión:  2\n"
     ]
    }
   ],
   "source": [
    "k = evaluacion(uc,ui,uj,N)"
   ]
  },
  {
   "cell_type": "markdown",
   "metadata": {},
   "source": [
    "**Análisis y presentación del resultado**\n",
    "\n",
    "Como el cociente $\\dfrac{u_{i}(x_{i})}{u_{j}(x_{i})} \\gt 2$, entonces suponemos que nos encontramos frente al caso de distribución normal o distribución t-Student. Para ello utilizamos el criterio de los grados de libertad efectivos.\n",
    "\n",
    "En este caso los grado de libertad efectivos $V_{eff} \\gt 30$, por lo que suponemos distribución normal.\n",
    "\n",
    "Finalmente presentamos el resultado con 1 dígito significativo."
   ]
  },
  {
   "cell_type": "code",
   "execution_count": 690,
   "metadata": {},
   "outputs": [
    {
     "name": "stdout",
     "output_type": "stream",
     "text": [
      "( 99.7 +- 1.0 )V\n"
     ]
    }
   ],
   "source": [
    "U = uc*k\n",
    "print(\"(\",np.round(media,1),\"+-\",np.round(U,1),\")V\")"
   ]
  },
  {
   "cell_type": "markdown",
   "metadata": {},
   "source": [
    "## Caso incertidumbre tipo A dominante"
   ]
  },
  {
   "cell_type": "markdown",
   "metadata": {},
   "source": [
    "## Caso incertidumbre tipo B dominante"
   ]
  },
  {
   "cell_type": "markdown",
   "metadata": {},
   "source": [
    "## Ejemplo correlación"
   ]
  },
  {
   "cell_type": "markdown",
   "metadata": {},
   "source": [
    "# Bibliografía\n",
    "\n",
    "_Nota: Las citas **no** respetan el formato APA._\n",
    "\n",
    "1. [Evaluación de la Incertidumbre en Datos Experimentales, Javier Miranda Martín del Campo](http://depa.fquim.unam.mx/amyd/archivero/CALCULODEINCERTIDUMBRESDR.JAVIERMIRANDA_26197.pdf)\n",
    "\n",
    "1. [Propagación de erroes, Wikipedia](https://es.wikipedia.org/wiki/Propagaci%C3%B3n_de_errores)\n",
    "\n",
    "1. [Convolución, Wikipedia](https://es.wikipedia.org/wiki/Convoluci%C3%B3n)\n",
    "\n",
    "1. [Intervalo de Confianza, Wikipedia](https://es.wikipedia.org/wiki/Intervalo_de_confianza#Ejemplo_pr%C3%A1ctico)"
   ]
  }
 ],
 "metadata": {
  "kernelspec": {
   "display_name": "Python 3",
   "language": "python",
   "name": "python3"
  },
  "language_info": {
   "codemirror_mode": {
    "name": "ipython",
    "version": 3
   },
   "file_extension": ".py",
   "mimetype": "text/x-python",
   "name": "python",
   "nbconvert_exporter": "python",
   "pygments_lexer": "ipython3",
   "version": "3.8.5"
  }
 },
 "nbformat": 4,
 "nbformat_minor": 4
}
