{
 "cells": [
  {
   "cell_type": "markdown",
   "metadata": {},
   "source": [
    "# TP3 - Ejercicio 4\n",
    "\n",
    "## Consigna\n",
    "\n",
    "Se desea obtener el valor de la resistencia de canal de un transistor LDMOS [RD15VHF1](https://www.mitsubishielectric.com/semiconductors/content/product/highfrequency/siliconrf/discrete/rd15hvf1.pdf), para ello se  intercala entre el terminal positivo de la fuente y DRAIN un amperímetro. El terminal de SOURCE se conecta al negativo de la fuente y en paralelo con la fuente, un voltímetro para medir la tensión de salida. Se hicieron mediciones simultaneas de tensión y corriente, obteniéndose para VGS=4V la siguiente tabla de resultados:\n",
    "\n",
    "\n",
    "| N | $V_{i}$ | $I_{i}$ |\n",
    "|---|---------|---------|\n",
    "| 1 | 10.11V  | 2.51A   |\n",
    "| 2 | 10.21V  | 2.52A   |\n",
    "| 3 | 10.10V  | 2.52A   |\n",
    "| 4 | 10.00V  | 2.49A   |\n",
    "| 5 | 10.19V  | 2.49A   |\n",
    "\n",
    "A su vez se especifica la resolución y precisión de los instrumentos utilizados durante la medición,\n",
    "\n",
    "> **Voltímetro DC:** Rango 20V, Resolución 10mV, Precisión $\\pm$ (0.5% de lectura + 2 digitos)\n",
    "\n",
    "> **Amperímetro DC:** Rango 10V, Resolución 10mA, Precisión $\\pm$ (2.5% de lectura + 5 digitos)\n",
    "\n",
    "### Resistencias internas\n",
    "\n",
    "> **Voltímetro DC:** $R_{v} = 1M\\Omega$\n",
    "\n",
    "> **Amperímetro DC:** Se calucla la resistencia de shunt como el cociente entre el menor rango del voltímetro sobre el rango utilizado del amperímetro $R_{a} = \\frac{200mV}{10A} = 20m\\Omega$\n",
    "\n",
    "### Circuito utilizado\n",
    "\n",
    "![imagen](Consigna.png)"
   ]
  },
  {
   "cell_type": "markdown",
   "metadata": {},
   "source": [
    "\n",
    "# Resolución\n",
    "\n",
    "## Interpretación del problema\n",
    "\n",
    "En primera instancia el problema consiste en considerar las resistencias internas de los instrumentos de medición para luego poder calcular el error de método y considerar una posible corrección en la medida.\n",
    "\n",
    "### Circuito con resistencias internas\n",
    "\n",
    "Debemos considerar que estamos en el caso de corriente bien medida, por estar el amperímetro más próximo al circuito a medir. El diagrama con resistencias internas tomará la forma:\n",
    "\n",
    "![imagen](circuito.png)\n",
    "\n",
    "De acá podemos sacar las ecuaciones:\n",
    "\n",
    "\\begin{equation}\n",
    "    \\left\\{\n",
    "    V_{i} = V_{DS} + V_{A} \\atop\n",
    "    I_{i} = I_{D}\n",
    "    \\right.\n",
    "\\end{equation}\n",
    "\n",
    "donde $V_{A}$ es la caida de tensión sobre la resistencia $R_{a}$\n",
    "\n",
    "### Ecuaciones a utilizar\n",
    "\n",
    "Debemos considerar que la medición de la resistencia interna del canal va a seguir la siguiente expresión,\n",
    "\n",
    "\\begin{equation}\n",
    "    R_{i} = \\dfrac{V_{i}}{I_{i}} = \\dfrac{V_{DS} + V_{A}}{I_{D}} = \\dfrac{V_{DS}}{I_{D}} + \\dfrac{V_{A}}{I_{D}} = R_{MOS} + R_{a}\n",
    "\\end{equation}\n",
    "\n",
    "Por lo que finalmente podemos considerar que nuestro valor de interes será el siguiente:\n",
    "\n",
    "<div class=\"alert alert-success\">\n",
    "\\begin{equation}\n",
    "     R_{MOS} = R_{i} - R_{a}\n",
    "\\end{equation}\n",
    "</div>\n",
    "\n",
    "\n",
    "#### Ecuación del error de método\n",
    "\n",
    "Nosotros sabemos que la expresión del error de método sigue la forma,\n",
    "\n",
    "\\begin{equation}\n",
    "    e_{m} = \\dfrac{X_{i} - X}{X}\n",
    "\\end{equation}\n",
    "\n",
    "Por lo que si lo queremos aplicar a nuestro caso será:\n",
    "\n",
    "\\begin{equation}\n",
    "    e_{m} = \\dfrac{R_{i} - R_{MOS}}{R_{MOS}} = \\dfrac{R_{i} - (R_{i} - R_{a})}{R_{i} - R_{a}}\n",
    "\\end{equation}\n",
    "\n",
    "Finalmente, \n",
    "\n",
    "<div class=\"alert alert-success\">\n",
    "\\begin{equation}\n",
    "    e_{m} = \\dfrac{R_{a}}{R_{i} - R_{a}}\n",
    "\\end{equation}\n",
    "</div>\n"
   ]
  },
  {
   "cell_type": "markdown",
   "metadata": {},
   "source": [
    "# Análisis numérico\n",
    "\n",
    "Como de costumbre, lo primero que debemos hacer es incluir los módulos más importantes."
   ]
  },
  {
   "cell_type": "code",
   "execution_count": 1,
   "metadata": {},
   "outputs": [],
   "source": [
    "import numpy as np\n",
    "from scipy import signal\n",
    "from matplotlib import pyplot as plt \n",
    "# Módulos para Jupyter (mejores graficos!)\n",
    "import warnings\n",
    "warnings.filterwarnings('ignore')\n",
    "plt.rcParams['figure.figsize'] = [12, 4]\n",
    "plt.rcParams['figure.dpi'] = 150 # 200 e.g. is really fine, but slower"
   ]
  },
  {
   "cell_type": "markdown",
   "metadata": {},
   "source": [
    "Ahora comenzamos a calcular los valores correspondientes a las mediciones."
   ]
  },
  {
   "cell_type": "code",
   "execution_count": 2,
   "metadata": {},
   "outputs": [
    {
     "name": "stdout",
     "output_type": "stream",
     "text": [
      "V_mean: 10.12V - STD: 0.07V\n",
      "I_mean: 2.51A - STD: 0.01A\n"
     ]
    }
   ],
   "source": [
    "# Cargamos la tabla de valores\n",
    "Vi = np.array([10.11, 10.21, 10.10, 10.00, 10.19])\n",
    "Ii = np.array([2.51, 2.52, 2.52, 2.49, 2.49])\n",
    "N = np.size(Vi)\n",
    "\n",
    "V_mean = np.mean(Vi)\n",
    "I_mean = np.mean(Ii)\n",
    "\n",
    "V_std = np.std(Vi)\n",
    "I_std = np.std(Ii)\n",
    "\n",
    "# Calculamos\n",
    "\n",
    "print(\"V_mean: %0.2fV - STD: %0.2fV\" % (V_mean,V_std))\n",
    "print(\"I_mean: %0.2fA - STD: %0.2fA\" % (I_mean,I_std))"
   ]
  },
  {
   "cell_type": "markdown",
   "metadata": {},
   "source": [
    "Ahora que conocemos los valores medios de $V_{i}$ y $I_{i}$, pasamos a calcular la resistencia medida. Recordemos que la expresión de calculo es,\n",
    "\n",
    "\\begin{equation}\n",
    "    R_{i} = \\dfrac{V_{i}}{I_{i}}\n",
    "\\end{equation}"
   ]
  },
  {
   "cell_type": "code",
   "execution_count": 3,
   "metadata": {},
   "outputs": [
    {
     "name": "stdout",
     "output_type": "stream",
     "text": [
      "Ri: 4.04Ω\n"
     ]
    }
   ],
   "source": [
    "# Calculamos la resistencia medida\n",
    "Ri = V_mean / I_mean\n",
    "print(\"Ri: %0.2fΩ\" % (Ri))"
   ]
  },
  {
   "cell_type": "markdown",
   "metadata": {},
   "source": [
    "## Incertidumbre\n",
    "\n",
    "Ahora que conocemos los valores comunes, debemos calcular la incertidumbre de $R_{i}$.\n",
    "\n",
    "### Tipo A\n",
    "Calculamos el desvío estándar experimental de la media como:\n",
    "\\begin{equation}\n",
    "     u_{i}(x_{i}) = \\sqrt{S^{2}(\\bar{X_{i}})}\n",
    "\\end{equation}"
   ]
  },
  {
   "cell_type": "code",
   "execution_count": 4,
   "metadata": {},
   "outputs": [
    {
     "name": "stdout",
     "output_type": "stream",
     "text": [
      "I_ui: 0.006A\n",
      "V_ui: 0.033V\n"
     ]
    }
   ],
   "source": [
    "# Corriente\n",
    "I_ui = I_std/np.sqrt(N)\n",
    "\n",
    "# Tensión\n",
    "V_ui = V_std/np.sqrt(N)\n",
    "\n",
    "print(\"I_ui: %0.3fA\" % (I_ui))\n",
    "print(\"V_ui: %0.3fV\" % (V_ui))"
   ]
  },
  {
   "cell_type": "markdown",
   "metadata": {},
   "source": [
    "### Tipo B\n",
    "\n",
    "Cargamos las constantes provenientes de los datos de los fabricantes del instrumento.\n",
    "\n",
    "> **Voltímetro DC:** Rango 20V, Resolución 10mV, Precisión $\\pm$ (0.5% de lectura + 2 digitos)\n",
    "\n",
    "> **Amperímetro DC:** Rango 10V, Resolución 10mA, Precisión $\\pm$ (2.5% de lectura + 5 digitos)"
   ]
  },
  {
   "cell_type": "code",
   "execution_count": 5,
   "metadata": {},
   "outputs": [],
   "source": [
    "## Constantes del instrumento\n",
    "const_decimales = 2      # Cantidad de decimales que representa el instrumento\n",
    "\n",
    "# Voltimetro\n",
    "V_error_porcentual = 0.5 # Error porcentual del instrumento de medición\n",
    "V_error_cuenta = 2       # Error en cuentas del instrumento de medición\n",
    "\n",
    "# Amperimetro\n",
    "I_error_porcentual = 2.5 # Error porcentual del instrumento de medición\n",
    "I_error_cuenta = 5       # Error en cuentas del instrumento de medición"
   ]
  },
  {
   "cell_type": "markdown",
   "metadata": {},
   "source": [
    "**Calculamos el error porcentual total del dispositivo de medición como:**\n",
    "\\begin{equation}\n",
    "     e_{\\%T} = e_{\\%} + \\dfrac{e_{cuenta}\\cdot 100\\%}{\\bar{X_{i}}(10^{cte_{Decimales}})}\n",
    "\\end{equation}"
   ]
  },
  {
   "cell_type": "code",
   "execution_count": 6,
   "metadata": {},
   "outputs": [],
   "source": [
    "# Corriente\n",
    "I_error_porcentual_total = I_error_porcentual + (I_error_cuenta*100)/(I_mean * (10**const_decimales ))\n",
    "\n",
    "# Tensión\n",
    "V_error_porcentual_total = V_error_porcentual + (V_error_cuenta*100)/(V_mean * (10**const_decimales ))"
   ]
  },
  {
   "cell_type": "markdown",
   "metadata": {},
   "source": [
    "**El error absoluto se representa como:**\n",
    "\\begin{equation}\n",
    "     \\Delta X = e_{\\%T} \\dfrac{\\bar{X_{i}}}{100\\%}\n",
    "\\end{equation}"
   ]
  },
  {
   "cell_type": "code",
   "execution_count": 7,
   "metadata": {},
   "outputs": [],
   "source": [
    "# Corriente\n",
    "delta_I = I_error_porcentual_total * I_mean/100\n",
    "\n",
    "# Tension\n",
    "delta_V = V_error_porcentual_total * V_mean/100"
   ]
  },
  {
   "cell_type": "markdown",
   "metadata": {},
   "source": [
    "**Finalmente la incertidumbre tipo B queda:**\n",
    "\\begin{equation}\n",
    "     u_{j}(x_{i}) = \\sqrt{Var(x_{i})} = \\dfrac{\\Delta X}{\\sqrt{3}}\n",
    "\\end{equation}\n",
    "\n",
    "donde recordamos que suponemos una distribución uniforme en el dispositivo de medición."
   ]
  },
  {
   "cell_type": "code",
   "execution_count": 8,
   "metadata": {},
   "outputs": [
    {
     "name": "stdout",
     "output_type": "stream",
     "text": [
      "I_uj: 0.065A\n",
      "V_uj: 0.041V\n"
     ]
    }
   ],
   "source": [
    "# Corriente\n",
    "I_uj = delta_I / np.sqrt(3)\n",
    "\n",
    "# Tensión\n",
    "V_uj = delta_V / np.sqrt(3)\n",
    "\n",
    "print(\"I_uj: %0.3fA\" % (I_uj))\n",
    "print(\"V_uj: %0.3fV\" % (V_uj))"
   ]
  },
  {
   "cell_type": "markdown",
   "metadata": {},
   "source": [
    "**Calculamos la incertidumbre conjunta para cada medición directa**\n",
    "\n",
    "\\begin{equation}\n",
    "     u_{c}^{2}(x_{i}) = u_{i}^{2}(x_{i}) + u_{j}^{2}(x_{i}) \n",
    "\\end{equation}"
   ]
  },
  {
   "cell_type": "code",
   "execution_count": 9,
   "metadata": {},
   "outputs": [
    {
     "name": "stdout",
     "output_type": "stream",
     "text": [
      "I_uc: 0.065A\n",
      "V_uc: 0.053V\n"
     ]
    }
   ],
   "source": [
    "# Corriente\n",
    "I_uc = np.sqrt(I_ui**2 + I_uj**2)\n",
    "\n",
    "# Tensión\n",
    "V_uc = np.sqrt(V_ui**2 + V_uj**2)\n",
    "\n",
    "print(\"I_uc: %0.3fA\" % (I_uc))\n",
    "print(\"V_uc: %0.3fV\" % (V_uc))"
   ]
  },
  {
   "cell_type": "markdown",
   "metadata": {},
   "source": [
    "**Calculamos la incertidumbre conjunta para la medición indirecta**\n",
    "\n",
    "Tener en cuenta que es necesario hallar la correlación entre las medidas\n",
    "\n",
    "\\begin{equation}\n",
    "     u_{c}^{2}(Y) = \\sum_{i=1}^{N} (\\dfrac{\\partial f}{\\partial x_{i}})^{2} \\cdot u_{c}^{2}(x_{i}) + 2 \\sum_{i=1}^{N-1} \\sum_{j = i+1}^{N} \\dfrac{\\partial f}{\\partial x_{i}} \\dfrac{\\partial f}{\\partial x_{j}} r(x_{i},x_{j})u(x_{i})u(x_{j})\n",
    "\\end{equation}\n",
    "\n",
    "Calculamos las derivadas parciales:"
   ]
  },
  {
   "cell_type": "code",
   "execution_count": 10,
   "metadata": {},
   "outputs": [],
   "source": [
    "dR_dV = 1 / I_mean\n",
    "dR_dI = (-V_mean/(I_mean**2))"
   ]
  },
  {
   "cell_type": "markdown",
   "metadata": {},
   "source": [
    "Calculamos el coeficiente de correlación"
   ]
  },
  {
   "cell_type": "code",
   "execution_count": 15,
   "metadata": {},
   "outputs": [
    {
     "name": "stdout",
     "output_type": "stream",
     "text": [
      "VI_corr: 0.344\n"
     ]
    }
   ],
   "source": [
    "VI_corr = np.corrcoef(Vi,Ii)[0,1]\n",
    "print(\"VI_corr: %0.3f\" % (VI_corr))"
   ]
  },
  {
   "cell_type": "markdown",
   "metadata": {},
   "source": [
    "Ahora implementamos el calculo de correlación para la incertidumbre combinada"
   ]
  },
  {
   "cell_type": "code",
   "execution_count": 23,
   "metadata": {
    "scrolled": true
   },
   "outputs": [
    {
     "name": "stdout",
     "output_type": "stream",
     "text": [
      "Ri_uc: 0.100Ω\n"
     ]
    }
   ],
   "source": [
    "Ri_uc = np.sqrt( (dR_dV**2*V_uc**2) + (dR_dI**2*I_uc**2) + (2* (dR_dV*dR_dI*VI_corr*V_uc*I_uc)))\n",
    "print(\"Ri_uc: %0.3fΩ\" % (Ri_uc))"
   ]
  },
  {
   "cell_type": "markdown",
   "metadata": {},
   "source": [
    "**Expandimos la incertidumbre combinada**\n",
    "\n",
    "Considerando que existen al menos 4 variables aleatorias involucradas en la expresión de la incertidumbre combinada de $R_{i}$, podemos considerar que la distribución de $u_{c}(R_{i})$ se asemeja a una gaussiana lo suficiente. Por tanto el $K_{95\\%} = 2$.\n",
    "\n",
    "\\begin{equation}\n",
    "     U_{c}(Y) = K_{95\\%} \\cdot u_{c}(Y) \n",
    "\\end{equation}"
   ]
  },
  {
   "cell_type": "code",
   "execution_count": 22,
   "metadata": {},
   "outputs": [
    {
     "name": "stdout",
     "output_type": "stream",
     "text": [
      "Ri_Uc: 0.200Ω\n"
     ]
    }
   ],
   "source": [
    "Ri_Uc = 2 * Ri_uc\n",
    "print(\"Ri_Uc: %0.3fΩ\" % (Ri_Uc))"
   ]
  },
  {
   "cell_type": "markdown",
   "metadata": {},
   "source": [
    "## Error de método\n",
    "\n",
    "Ahora utilizaremos la expresión del error de método para calcular su valor y compararlo con la incertidumbre combinada de $R_{i}$. Recordemos que la expresión es,\n",
    "\n",
    "\\begin{equation}\n",
    "    e_{m} = \\dfrac{R_{a}}{R_{i} - R_{a}} \n",
    "\\end{equation}\n",
    "\n",
    "donde $R_{a} = \\frac{200mV}{10A} = 20m\\Omega$"
   ]
  },
  {
   "cell_type": "code",
   "execution_count": 32,
   "metadata": {},
   "outputs": [
    {
     "name": "stdout",
     "output_type": "stream",
     "text": [
      "e_m: 0.005Ω\n"
     ]
    }
   ],
   "source": [
    "Ra = 20e-3 # Resistencia del amperímetro\n",
    "\n",
    "# Error de método\n",
    "error_metodo = Ra / (Ri - Ra)\n",
    "\n",
    "print(\"e_m: %0.3fΩ\" % (error_metodo))"
   ]
  },
  {
   "cell_type": "markdown",
   "metadata": {},
   "source": [
    "Ahora debemos comparar. Si la incertidumbre combinada es al menos 10 veces mayor al error de método, se puede despreciar el $e_{m}$. Sino es necesario aplicar una corrección a la medición del $R_{i}$."
   ]
  },
  {
   "cell_type": "code",
   "execution_count": 34,
   "metadata": {
    "scrolled": true
   },
   "outputs": [
    {
     "name": "stdout",
     "output_type": "stream",
     "text": [
      "La incertidumbre combinada es 40.202 veces el error de método\n"
     ]
    }
   ],
   "source": [
    "relacion = Ri_Uc/error_metodo\n",
    "print(\"La incertidumbre combinada es %0.3f veces el error de método\" % (relacion))"
   ]
  },
  {
   "cell_type": "markdown",
   "metadata": {},
   "source": [
    "Dado que la incertidumbre combinada es al menos 10 veces mayor al error de método, podemos despreciarlo."
   ]
  },
  {
   "cell_type": "markdown",
   "metadata": {},
   "source": [
    "# Expresando el resultado"
   ]
  },
  {
   "cell_type": "code",
   "execution_count": 43,
   "metadata": {},
   "outputs": [
    {
     "name": "stdout",
     "output_type": "stream",
     "text": [
      "La resistencia del canal del NMOS es: (4.04 +/- 0.20)Ω @ 95% de confianza.\n"
     ]
    }
   ],
   "source": [
    "print(\"La resistencia del canal del NMOS es: (%0.2f +/- %0.2f)Ω @ 95%% de confianza.\" % (Ri,Ri_Uc))"
   ]
  }
 ],
 "metadata": {
  "kernelspec": {
   "display_name": "Python 3",
   "language": "python",
   "name": "python3"
  },
  "language_info": {
   "codemirror_mode": {
    "name": "ipython",
    "version": 3
   },
   "file_extension": ".py",
   "mimetype": "text/x-python",
   "name": "python",
   "nbconvert_exporter": "python",
   "pygments_lexer": "ipython3",
   "version": "3.8.5"
  }
 },
 "nbformat": 4,
 "nbformat_minor": 4
}
